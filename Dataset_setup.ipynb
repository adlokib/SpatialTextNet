{
 "cells": [
  {
   "cell_type": "code",
   "execution_count": null,
   "id": "32dd861b",
   "metadata": {},
   "outputs": [],
   "source": [
    "import os,zipfile\n",
    "import tarfile,json"
   ]
  },
  {
   "cell_type": "code",
   "execution_count": null,
   "id": "954e786f",
   "metadata": {},
   "outputs": [],
   "source": [
    "zip_path = 'rrc_data/zips/'\n",
    "zip_dest = 'rrc_data/images/'\n",
    "json_path = 'rrc_data/json/'"
   ]
  },
  {
   "cell_type": "code",
   "execution_count": null,
   "id": "914b14bc",
   "metadata": {},
   "outputs": [],
   "source": []
  },
  {
   "cell_type": "code",
   "execution_count": null,
   "id": "3d40c5f9",
   "metadata": {},
   "outputs": [],
   "source": [
    "with zipfile.ZipFile(os.path.join(zip_path,'val.zip'), 'r') as file:\n",
    "    file.extractall(zip_dest)\n",
    "    \n",
    "with zipfile.ZipFile(os.path.join(zip_path,'test_croppedv2.zip'), 'r') as file:\n",
    "    file.extractall(zip_dest)\n",
    "    \n",
    "with tarfile.open(os.path.join(zip_path,'cropped_train.tar.gz')) as file:\n",
    "    file.extractall(zip_dest)"
   ]
  },
  {
   "cell_type": "code",
   "execution_count": null,
   "id": "2445218e",
   "metadata": {},
   "outputs": [],
   "source": []
  },
  {
   "cell_type": "code",
   "execution_count": null,
   "id": "65536527",
   "metadata": {},
   "outputs": [],
   "source": [
    "with open(os.path.join(json_path,'cropped_train_v1.json'))as f:\n",
    "    data_train = json.load(f)\n",
    "    \n",
    "with open(os.path.join(json_path,'cropped_val_v1.json'))as f:\n",
    "    data_val = json.load(f)"
   ]
  },
  {
   "cell_type": "code",
   "execution_count": null,
   "id": "b6120072",
   "metadata": {},
   "outputs": [],
   "source": []
  },
  {
   "cell_type": "code",
   "execution_count": null,
   "id": "0e11ad27",
   "metadata": {},
   "outputs": [],
   "source": [
    "train_path = 'data/train/'\n",
    "val_path = 'data/val/'"
   ]
  },
  {
   "cell_type": "code",
   "execution_count": null,
   "id": "47733eaf",
   "metadata": {},
   "outputs": [],
   "source": []
  },
  {
   "cell_type": "code",
   "execution_count": null,
   "id": "6a431946",
   "metadata": {},
   "outputs": [],
   "source": [
    "os.makedirs(val_path,exist_ok=True)\n",
    "os.makedirs(train_path,exist_ok=True)\n",
    "\n",
    "for entry in data_val:\n",
    "    \n",
    "    img_file = str(entry['text_id'])+'.jpg'\n",
    "    \n",
    "    if entry['transcription'].isascii() and os.path.getsize(os.path.join(zip_dest,'val',img_file)):\n",
    "        \n",
    "        os.symlink(os.path.join(zip_dest,'val',img_file),os.path.join(val_path,img_file))\n",
    "        \n",
    "        with open(os.path.join(val_path,img_file[:-3]+'txt'),'w')as f:\n",
    "            f.write(entry['transcription'])\n",
    "            \n",
    "\n",
    "\n",
    "for entry in data_train:\n",
    "    \n",
    "    img_file = str(entry['text_id'])+'.jpg'\n",
    "    \n",
    "    if entry['transcription'].isascii() and os.path.getsize(os.path.join(zip_dest,'train',img_file)):\n",
    "        \n",
    "        os.symlink(os.path.join(zip_dest,'train',img_file),os.path.join(train_path,img_file))\n",
    "        \n",
    "        with open(os.path.join(train_path,img_file[:-3]+'txt'),'w')as f:\n",
    "            f.write(entry['transcription'])"
   ]
  },
  {
   "cell_type": "code",
   "execution_count": null,
   "id": "4958fd1e",
   "metadata": {},
   "outputs": [],
   "source": [
    "os.remove(os.path.join(train_path,'4985023.jpg'))\n",
    "os.remove(os.path.join(train_path,'4985023.txt'))"
   ]
  },
  {
   "cell_type": "code",
   "execution_count": null,
   "id": "6841b0df",
   "metadata": {},
   "outputs": [],
   "source": []
  }
 ],
 "metadata": {
  "kernelspec": {
   "display_name": "Python 3 (ipykernel)",
   "language": "python",
   "name": "python3"
  },
  "language_info": {
   "codemirror_mode": {
    "name": "ipython",
    "version": 3
   },
   "file_extension": ".py",
   "mimetype": "text/x-python",
   "name": "python",
   "nbconvert_exporter": "python",
   "pygments_lexer": "ipython3",
   "version": "3.8.10"
  }
 },
 "nbformat": 4,
 "nbformat_minor": 5
}
